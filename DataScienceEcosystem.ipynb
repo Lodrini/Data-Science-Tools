{
 "cells": [
  {
   "cell_type": "markdown",
   "id": "7a4309e1-d088-431f-8130-cca2d22e8d56",
   "metadata": {
    "tags": []
   },
   "source": [
    "# Data Science Tools and Ecosystem"
   ]
  },
  {
   "cell_type": "markdown",
   "id": "504e8025-f370-42eb-951a-d938c98cbf4a",
   "metadata": {},
   "source": [
    "## In this notebook, Data Science Tools and Ecosystem are summarised"
   ]
  },
  {
   "cell_type": "markdown",
   "id": "c839a74a-4689-4cf7-8738-3eeb4ec1f44d",
   "metadata": {},
   "source": [
    "__Objectives:__\n",
    "* List popular languages for Data Science\n",
    "* List popular libraries for Data Science\n",
    "* List popular tools for Data Science "
   ]
  },
  {
   "cell_type": "markdown",
   "id": "b06a775b-f731-4efa-bf7c-4e54b83c3d09",
   "metadata": {},
   "source": [
    "Some of the popular languages that Data Scientists use are:\n",
    "* Python\n",
    "* R\n",
    "* SQL"
   ]
  },
  {
   "cell_type": "markdown",
   "id": "2f8bb0e8-7262-475c-9514-cc8581e75334",
   "metadata": {},
   "source": [
    "Some of the commonly used libraries used by Data Scientists are:\n",
    "* TensorFlow\n",
    "* NumPy\n",
    "* SciPy \n",
    "* Pandas\n",
    "* Matplotlib "
   ]
  },
  {
   "cell_type": "markdown",
   "id": "5f0fc564-e755-4f06-8aa0-03b6a257f2e8",
   "metadata": {},
   "source": [
    "|Data Science Tools|\n",
    "|------------------|\n",
    "|Jupyter Notebook|\n",
    "|R Studio|\n",
    "|Zeppelin Notebook|"
   ]
  },
  {
   "cell_type": "markdown",
   "id": "ceed4fc1-62fd-4a29-b006-3c0bfbadbbb0",
   "metadata": {},
   "source": [
    "### Below are few examples of evalutating arithmetic expressions in Python"
   ]
  },
  {
   "cell_type": "code",
   "execution_count": 4,
   "id": "1896a31a-407c-451f-9064-1f8902dcf005",
   "metadata": {},
   "outputs": [
    {
     "data": {
      "text/plain": [
       "17"
      ]
     },
     "execution_count": 4,
     "metadata": {},
     "output_type": "execute_result"
    }
   ],
   "source": [
    "# This is a simple arithmetic expression to multiply then add numbers \n",
    "(3*4)+5"
   ]
  },
  {
   "cell_type": "code",
   "execution_count": 5,
   "id": "ba556281-ba95-47b6-88d1-c8e53c31e0b0",
   "metadata": {},
   "outputs": [
    {
     "data": {
      "text/plain": [
       "3.3333333333333335"
      ]
     },
     "execution_count": 5,
     "metadata": {},
     "output_type": "execute_result"
    }
   ],
   "source": [
    "# This will convert hours to minutes by dividing by 60\n",
    "200/60"
   ]
  },
  {
   "cell_type": "markdown",
   "id": "d92692af-d0b4-463e-bd87-90337f04cab1",
   "metadata": {},
   "source": [
    "## Author\n",
    "Marco Lodrini"
   ]
  }
 ],
 "metadata": {
  "kernelspec": {
   "display_name": "Python 3 (ipykernel)",
   "language": "python",
   "name": "python3"
  },
  "language_info": {
   "codemirror_mode": {
    "name": "ipython",
    "version": 3
   },
   "file_extension": ".py",
   "mimetype": "text/x-python",
   "name": "python",
   "nbconvert_exporter": "python",
   "pygments_lexer": "ipython3",
   "version": "3.10.9"
  }
 },
 "nbformat": 4,
 "nbformat_minor": 5
}
